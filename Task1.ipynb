{
  "nbformat": 4,
  "nbformat_minor": 0,
  "metadata": {
    "colab": {
      "name": "Task1.ipynb",
      "provenance": []
    },
    "kernelspec": {
      "name": "python3",
      "display_name": "Python 3"
    }
  },
  "cells": [
    {
      "cell_type": "code",
      "metadata": {
        "id": "7Ku24ePkHI3A",
        "colab_type": "code",
        "colab": {
          "base_uri": "https://localhost:8080/",
          "height": 34
        },
        "outputId": "9f506a25-c8e6-4f65-863f-0431485384c0"
      },
      "source": [
        "import math\n",
        "\n",
        "class point():\n",
        "  \n",
        "  def __init__(self,corner1,corner2):\n",
        "\n",
        "    self.x1 = corner1[0]\n",
        "    self.y1 = corner1[1]\n",
        "\n",
        "    self.x2 = corner2[0]\n",
        "    self.y2 = corner2[1]  \n",
        "\n",
        "  def distance_between_points(self):\n",
        "\n",
        "    c = (self.x2 - self.x1)**2\n",
        "    d = (self.y2 - self.y1)**2\n",
        "\n",
        "    e = math.sqrt(c+d)\n",
        "\n",
        "    print(e)\n",
        "\n",
        "a = (20,30)\n",
        "b = (40,50)\n",
        "rec = point(a,b)\n",
        "rec.distance_between_points()\n",
        "\n"
      ],
      "execution_count": 21,
      "outputs": [
        {
          "output_type": "stream",
          "text": [
            "28.284271247461902\n"
          ],
          "name": "stdout"
        }
      ]
    },
    {
      "cell_type": "code",
      "metadata": {
        "id": "5deP5gEaIfs7",
        "colab_type": "code",
        "colab": {}
      },
      "source": [
        ""
      ],
      "execution_count": 0,
      "outputs": []
    }
  ]
}