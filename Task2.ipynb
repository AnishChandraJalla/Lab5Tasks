{
  "nbformat": 4,
  "nbformat_minor": 0,
  "metadata": {
    "colab": {
      "name": "Task2.ipynb",
      "provenance": [],
      "collapsed_sections": []
    },
    "kernelspec": {
      "name": "python3",
      "display_name": "Python 3"
    }
  },
  "cells": [
    {
      "cell_type": "code",
      "metadata": {
        "id": "vT2e2elUOjlM",
        "colab_type": "code",
        "colab": {
          "base_uri": "https://localhost:8080/",
          "height": 50
        },
        "outputId": "f146380c-2a17-4f73-dad0-d2cd0f39397b"
      },
      "source": [
        "class Rectangle():\n",
        "  def __init__ (self,width,height,corner):\n",
        "\n",
        "    self.width = width\n",
        "    self.height = height\n",
        "    self.x = corner[0]\n",
        "    self.y = corner[1]\n",
        "\n",
        "    Rectangle.find_center(self,self.x,self.y)\n",
        "\n",
        "  def find_center(self,x,y):\n",
        "    x1 = (x+self.width)/2\n",
        "    y1 = (y+self.height)/2\n",
        "\n",
        "    print(\"centre is (%d,%d)\"%(x1,y1))\n",
        "\n",
        "  def move_rectangle(point,dx,dy):\n",
        "\n",
        "    x = point[0]\n",
        "    y = point[1]\n",
        "\n",
        "    newx1 = x + dx\n",
        "    newy1 = y + dy\n",
        "\n",
        "    print(newx1,newy1)\n",
        "\n",
        "a = (0,0)\n",
        "Rectangle(10,20,a)\n",
        "Rectangle.move_rectangle(a,50,10)"
      ],
      "execution_count": 17,
      "outputs": [
        {
          "output_type": "stream",
          "text": [
            "centre is (5,10)\n",
            "50 10\n"
          ],
          "name": "stdout"
        }
      ]
    },
    {
      "cell_type": "code",
      "metadata": {
        "id": "cVN82kAyVLAn",
        "colab_type": "code",
        "colab": {}
      },
      "source": [
        ""
      ],
      "execution_count": 0,
      "outputs": []
    }
  ]
}